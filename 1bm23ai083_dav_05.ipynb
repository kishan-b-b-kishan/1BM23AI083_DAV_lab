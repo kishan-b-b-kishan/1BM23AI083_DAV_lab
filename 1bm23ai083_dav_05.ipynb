{
 "cells": [
  {
   "cell_type": "code",
   "execution_count": 1,
   "id": "ad0ed457",
   "metadata": {},
   "outputs": [],
   "source": [
    "import numpy as np\n",
    "import pandas as pd"
   ]
  },
  {
   "cell_type": "code",
   "execution_count": 2,
   "id": "225d2fbe",
   "metadata": {},
   "outputs": [
    {
     "data": {
      "text/html": [
       "<div>\n",
       "<style scoped>\n",
       "    .dataframe tbody tr th:only-of-type {\n",
       "        vertical-align: middle;\n",
       "    }\n",
       "\n",
       "    .dataframe tbody tr th {\n",
       "        vertical-align: top;\n",
       "    }\n",
       "\n",
       "    .dataframe thead th {\n",
       "        text-align: right;\n",
       "    }\n",
       "</style>\n",
       "<table border=\"1\" class=\"dataframe\">\n",
       "  <thead>\n",
       "    <tr style=\"text-align: right;\">\n",
       "      <th></th>\n",
       "      <th>Date</th>\n",
       "      <th>Region</th>\n",
       "      <th>Salesperson</th>\n",
       "      <th>Product</th>\n",
       "      <th>Units Sold</th>\n",
       "      <th>Price per Unit</th>\n",
       "      <th>Revenue</th>\n",
       "    </tr>\n",
       "  </thead>\n",
       "  <tbody>\n",
       "    <tr>\n",
       "      <th>0</th>\n",
       "      <td>01-01-2024</td>\n",
       "      <td>North</td>\n",
       "      <td>Alice</td>\n",
       "      <td>Widget A</td>\n",
       "      <td>10</td>\n",
       "      <td>20</td>\n",
       "      <td>200</td>\n",
       "    </tr>\n",
       "    <tr>\n",
       "      <th>1</th>\n",
       "      <td>02-01-2024</td>\n",
       "      <td>North</td>\n",
       "      <td>Bob</td>\n",
       "      <td>Widget B</td>\n",
       "      <td>5</td>\n",
       "      <td>30</td>\n",
       "      <td>150</td>\n",
       "    </tr>\n",
       "    <tr>\n",
       "      <th>2</th>\n",
       "      <td>02-01-2024</td>\n",
       "      <td>South</td>\n",
       "      <td>Charlie</td>\n",
       "      <td>Widget A</td>\n",
       "      <td>15</td>\n",
       "      <td>20</td>\n",
       "      <td>300</td>\n",
       "    </tr>\n",
       "    <tr>\n",
       "      <th>3</th>\n",
       "      <td>03-01-2024</td>\n",
       "      <td>East</td>\n",
       "      <td>Alice</td>\n",
       "      <td>Widget A</td>\n",
       "      <td>12</td>\n",
       "      <td>20</td>\n",
       "      <td>240</td>\n",
       "    </tr>\n",
       "    <tr>\n",
       "      <th>4</th>\n",
       "      <td>03-01-2024</td>\n",
       "      <td>North</td>\n",
       "      <td>Bob</td>\n",
       "      <td>Widget A</td>\n",
       "      <td>20</td>\n",
       "      <td>20</td>\n",
       "      <td>0</td>\n",
       "    </tr>\n",
       "    <tr>\n",
       "      <th>5</th>\n",
       "      <td>04-01-2024</td>\n",
       "      <td>West</td>\n",
       "      <td>David</td>\n",
       "      <td>Widget B</td>\n",
       "      <td>8</td>\n",
       "      <td>30</td>\n",
       "      <td>240</td>\n",
       "    </tr>\n",
       "    <tr>\n",
       "      <th>6</th>\n",
       "      <td>05-01-2024</td>\n",
       "      <td>South</td>\n",
       "      <td>Charlie</td>\n",
       "      <td>Widget B</td>\n",
       "      <td>10</td>\n",
       "      <td>30</td>\n",
       "      <td>300</td>\n",
       "    </tr>\n",
       "    <tr>\n",
       "      <th>7</th>\n",
       "      <td>05-01-2024</td>\n",
       "      <td>East</td>\n",
       "      <td>Alice</td>\n",
       "      <td>Widget B</td>\n",
       "      <td>9</td>\n",
       "      <td>30</td>\n",
       "      <td>270</td>\n",
       "    </tr>\n",
       "  </tbody>\n",
       "</table>\n",
       "</div>"
      ],
      "text/plain": [
       "         Date Region Salesperson   Product  Units Sold  Price per Unit  \\\n",
       "0  01-01-2024  North       Alice  Widget A          10              20   \n",
       "1  02-01-2024  North         Bob  Widget B           5              30   \n",
       "2  02-01-2024  South     Charlie  Widget A          15              20   \n",
       "3  03-01-2024   East       Alice  Widget A          12              20   \n",
       "4  03-01-2024  North         Bob  Widget A          20              20   \n",
       "5  04-01-2024   West       David  Widget B           8              30   \n",
       "6  05-01-2024  South     Charlie  Widget B          10              30   \n",
       "7  05-01-2024   East       Alice  Widget B           9              30   \n",
       "\n",
       "   Revenue  \n",
       "0      200  \n",
       "1      150  \n",
       "2      300  \n",
       "3      240  \n",
       "4        0  \n",
       "5      240  \n",
       "6      300  \n",
       "7      270  "
      ]
     },
     "metadata": {},
     "output_type": "display_data"
    }
   ],
   "source": [
    "df = pd.read_csv('lab5.csv')\n",
    "display(df)"
   ]
  },
  {
   "cell_type": "code",
   "execution_count": 3,
   "id": "4059ab87",
   "metadata": {},
   "outputs": [
    {
     "name": "stdout",
     "output_type": "stream",
     "text": [
      "=== 1. Total Revenue by Salesperson per Date ===\n",
      "Salesperson  Alice  Bob  Charlie  David\n",
      "Date                                   \n",
      "01-01-2024     200    0        0      0\n",
      "02-01-2024       0  150      300      0\n",
      "03-01-2024     240    0        0      0\n",
      "04-01-2024       0    0        0    240\n",
      "05-01-2024     270    0      300      0 \n",
      "\n"
     ]
    }
   ],
   "source": [
    "pivot1 = df.pivot_table(values=\"Revenue\", index=\"Date\", columns=\"Salesperson\", aggfunc=\"sum\", fill_value=0)\n",
    "print(\"=== 1. Total Revenue by Salesperson per Date ===\")\n",
    "print(pivot1, \"\\n\")"
   ]
  },
  {
   "cell_type": "code",
   "execution_count": 4,
   "id": "3205bbfb",
   "metadata": {},
   "outputs": [
    {
     "name": "stdout",
     "output_type": "stream",
     "text": [
      "=== 2. Average Revenue per Sale (by Product) ===\n",
      "Product\n",
      "Widget A    185.0\n",
      "Widget B    240.0\n",
      "Name: Revenue, dtype: float64 \n",
      "\n"
     ]
    }
   ],
   "source": [
    "avg_revenue = df.groupby(\"Product\")[\"Revenue\"].mean()\n",
    "print(\"=== 2. Average Revenue per Sale (by Product) ===\")\n",
    "print(avg_revenue, \"\\n\")"
   ]
  },
  {
   "cell_type": "code",
   "execution_count": 5,
   "id": "b6fa01eb",
   "metadata": {},
   "outputs": [
    {
     "name": "stdout",
     "output_type": "stream",
     "text": [
      "=== 3. Maximum Units Sold by Each Salesperson ===\n",
      "Salesperson\n",
      "Alice      12\n",
      "Bob        20\n",
      "Charlie    15\n",
      "David       8\n",
      "Name: Units Sold, dtype: int64 \n",
      "\n"
     ]
    }
   ],
   "source": [
    "max_units = df.groupby(\"Salesperson\")[\"Units Sold\"].max()\n",
    "print(\"=== 3. Maximum Units Sold by Each Salesperson ===\")\n",
    "print(max_units, \"\\n\")"
   ]
  },
  {
   "cell_type": "code",
   "execution_count": 6,
   "id": "ace8187c",
   "metadata": {},
   "outputs": [
    {
     "name": "stdout",
     "output_type": "stream",
     "text": [
      "=== 4. Percentage of Total Revenue by Region ===\n",
      "Region\n",
      "East     30.000000\n",
      "North    20.588235\n",
      "South    35.294118\n",
      "West     14.117647\n",
      "Name: Revenue, dtype: float64 \n",
      "\n"
     ]
    }
   ],
   "source": [
    "region_revenue = df.groupby(\"Region\")[\"Revenue\"].sum()\n",
    "region_percentage = (region_revenue / region_revenue.sum()) * 100\n",
    "print(\"=== 4. Percentage of Total Revenue by Region ===\")\n",
    "print(region_percentage, \"\\n\")"
   ]
  },
  {
   "cell_type": "code",
   "execution_count": 7,
   "id": "70e12fc3",
   "metadata": {},
   "outputs": [
    {
     "name": "stdout",
     "output_type": "stream",
     "text": [
      "=== 5. Number of Transactions per Salesperson ===\n",
      "Salesperson\n",
      "Alice      3\n",
      "Bob        2\n",
      "Charlie    2\n",
      "David      1\n",
      "Name: count, dtype: int64\n",
      "\n",
      "Top Salesperson (Most Transactions): Alice\n",
      "\n"
     ]
    }
   ],
   "source": [
    "transactions = df[\"Salesperson\"].value_counts()\n",
    "top_salesperson = transactions.idxmax()\n",
    "print(\"=== 5. Number of Transactions per Salesperson ===\")\n",
    "print(transactions)\n",
    "print(f\"\\nTop Salesperson (Most Transactions): {top_salesperson}\\n\")"
   ]
  },
  {
   "cell_type": "code",
   "execution_count": 8,
   "id": "094753af",
   "metadata": {},
   "outputs": [
    {
     "name": "stdout",
     "output_type": "stream",
     "text": [
      "=== 6. Total Revenue and Units Sold by Salesperson & Product ===\n",
      "             Revenue          Units Sold         \n",
      "Product     Widget A Widget B   Widget A Widget B\n",
      "Salesperson                                      \n",
      "Alice            440      270         22        9\n",
      "Bob                0      150         20        5\n",
      "Charlie          300      300         15       10\n",
      "David              0      240          0        8 \n",
      "\n"
     ]
    }
   ],
   "source": [
    "pivot2 = df.pivot_table(\n",
    "    values=[\"Revenue\", \"Units Sold\"],\n",
    "    index=\"Salesperson\",\n",
    "    columns=\"Product\",\n",
    "    aggfunc=\"sum\",\n",
    "    fill_value=0\n",
    ")\n",
    "print(\"=== 6. Total Revenue and Units Sold by Salesperson & Product ===\")\n",
    "print(pivot2, \"\\n\")"
   ]
  },
  {
   "cell_type": "code",
   "execution_count": 9,
   "id": "ea260f0b",
   "metadata": {},
   "outputs": [
    {
     "name": "stdout",
     "output_type": "stream",
     "text": [
      "=== 7. Total Units Sold by Region on Each Date ===\n",
      "Region      East  North  South  West\n",
      "Date                                \n",
      "01-01-2024     0     10      0     0\n",
      "02-01-2024     0      5     15     0\n",
      "03-01-2024    12     20      0     0\n",
      "04-01-2024     0      0      0     8\n",
      "05-01-2024     9      0     10     0 \n",
      "\n"
     ]
    }
   ],
   "source": [
    "pivot3 = df.pivot_table(values=\"Units Sold\", index=\"Date\", columns=\"Region\", aggfunc=\"sum\", fill_value=0)\n",
    "print(\"=== 7. Total Units Sold by Region on Each Date ===\")\n",
    "print(pivot3, \"\\n\")"
   ]
  },
  {
   "cell_type": "code",
   "execution_count": null,
   "id": "59099b96",
   "metadata": {},
   "outputs": [],
   "source": []
  }
 ],
 "metadata": {
  "kernelspec": {
   "display_name": "Python 3 (ipykernel)",
   "language": "python",
   "name": "python3"
  },
  "language_info": {
   "codemirror_mode": {
    "name": "ipython",
    "version": 3
   },
   "file_extension": ".py",
   "mimetype": "text/x-python",
   "name": "python",
   "nbconvert_exporter": "python",
   "pygments_lexer": "ipython3",
   "version": "3.11.5"
  }
 },
 "nbformat": 4,
 "nbformat_minor": 5
}
